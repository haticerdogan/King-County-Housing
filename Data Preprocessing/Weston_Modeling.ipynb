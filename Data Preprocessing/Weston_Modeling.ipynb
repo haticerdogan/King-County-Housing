{
 "cells": [
  {
   "cell_type": "markdown",
   "metadata": {},
   "source": [
    "# Model Notebook \n",
    "\n",
    "Creating a model to best predict housing prices for a real estate agency.\n",
    "\n",
    "The function for the model gives the option of a statsmodel summary and a test visualization "
   ]
  },
  {
   "cell_type": "markdown",
   "metadata": {},
   "source": [
    "## Loading packages, libraries, functions and variables from the EDA notebook."
   ]
  },
  {
   "cell_type": "code",
   "execution_count": 1,
   "metadata": {},
   "outputs": [],
   "source": [
    "#Loading the needed packages, libraries, functions and variables from the EDA notebook.\n",
    "import pandas as pd\n",
    "from pandas.api.types import is_numeric_dtype\n",
    "import numpy as np\n",
    "import seaborn as sns\n",
    "import matplotlib.pyplot as plt\n",
    "%matplotlib inline\n",
    "import warnings\n",
    "warnings.filterwarnings(\"ignore\")\n",
    "\n",
    "import statsmodels.api as sm\n",
    "\n",
    "from sklearn.linear_model import LinearRegression\n",
    "from sklearn.metrics import mean_squared_error\n",
    "from sklearn.preprocessing import PolynomialFeatures\n",
    "from sklearn.model_selection import train_test_split\n",
    "from sklearn.preprocessing import StandardScaler\n",
    "from sklearn.model_selection import cross_val_score\n",
    "from sklearn.preprocessing import OrdinalEncoder\n",
    "from sklearn.feature_selection import RFECV\n",
    "from sklearn.model_selection import cross_validate, ShuffleSplit"
   ]
  },
  {
   "cell_type": "code",
   "execution_count": 2,
   "metadata": {},
   "outputs": [],
   "source": [
    "#Original DataFrame\n",
    "%store -r df_original"
   ]
  },
  {
   "cell_type": "code",
   "execution_count": 3,
   "metadata": {},
   "outputs": [],
   "source": [
    "#Cleaned DataFrame — from the EDA notebook\n",
    "%store -r df_clean"
   ]
  },
  {
   "cell_type": "code",
   "execution_count": 4,
   "metadata": {},
   "outputs": [],
   "source": [
    "# For consistent randomness\n",
    "np.random.seed(42)"
   ]
  },
  {
   "cell_type": "code",
   "execution_count": 5,
   "metadata": {},
   "outputs": [],
   "source": [
    "def df_corr_pairs(dataframe, percentage):\n",
    "    percentage = percentage / 100    \n",
    "    df_corr_pairs = dataframe.corr().abs().stack().reset_index().sort_values(0, ascending=False)\n",
    "    df_corr_pairs['pairs'] = list(zip(df_corr_pairs.level_0, df_corr_pairs.level_1))\n",
    "    df_corr_pairs.set_index(['pairs'], inplace = True)\n",
    "    df_corr_pairs.drop(columns=['level_1', 'level_0'], inplace = True)\n",
    "    df_corr_pairs.columns = ['cc']\n",
    "    df_corr_pairs = df_corr_pairs.drop_duplicates()\n",
    "    df_high_corr_pairs = df_corr_pairs[(df_corr_pairs['cc'] > percentage) & (df_corr_pairs['cc'] < 1)]\n",
    "    return df_high_corr_pairs"
   ]
  },
  {
   "cell_type": "markdown",
   "metadata": {},
   "source": [
    "## Modeling"
   ]
  },
  {
   "cell_type": "code",
   "execution_count": 6,
   "metadata": {},
   "outputs": [],
   "source": [
    "lr = LinearRegression()"
   ]
  },
  {
   "cell_type": "code",
   "execution_count": 7,
   "metadata": {},
   "outputs": [],
   "source": [
    "# Our model needs to have only numeric variables.\n",
    "# Using this function, we can drop all columns without numeric varibales.\n",
    "# We will input this function within our next function.\n",
    "def only_numeric(data):\n",
    "    '''returns a dataframe with only numeric values'''\n",
    "    for column in data.columns:\n",
    "        if is_numeric_dtype(data[column]) == False:\n",
    "            data = data.drop(column, axis=1)\n",
    "        else:\n",
    "            continue\n",
    "    return data"
   ]
  },
  {
   "cell_type": "code",
   "execution_count": 8,
   "metadata": {},
   "outputs": [],
   "source": [
    "# This returns our y and X for any data frame. \n",
    "# Uses all the numeric columns, need to pass a string as a target variable.\n",
    "def get_y_X(data, target):\n",
    "    data = only_numeric(data) # Making data only columns with numeric values.\n",
    "    y = data[target] \n",
    "    X = data.drop(target, axis=1)\n",
    "    return y, X"
   ]
  },
  {
   "cell_type": "code",
   "execution_count": 9,
   "metadata": {},
   "outputs": [],
   "source": [
    "# This function will return a train / test split variables for an X and y. \n",
    "def my_train_test(ys, Xs):\n",
    "    X_train, X_test, y_train, y_test = train_test_split(Xs, ys, test_size=.2)\n",
    "\n",
    "    return X_train, X_test, y_train, y_test"
   ]
  },
  {
   "cell_type": "code",
   "execution_count": 10,
   "metadata": {},
   "outputs": [],
   "source": [
    "# This prediction function is not in effect, work in progress. \n",
    "def prediction(ys, Xs):\n",
    "    y_hat = lr.predict(X)\n",
    "    rmse = np.sqrt(mean_squared_error(y, y_hat))\n",
    "    return rmse, y_hat"
   ]
  },
  {
   "cell_type": "code",
   "execution_count": 11,
   "metadata": {},
   "outputs": [],
   "source": [
    "# Function to compare R2 values and RMSE values of the train and testing models\n",
    "def train_test_compare(X_tr, X_te, y_tr, y_te):\n",
    "    model = lr.fit(X_tr, y_tr) # fit the model\n",
    "    \n",
    "    #R2 Scores\n",
    "    train_score = lr.score(X_tr, y_tr)\n",
    "    test_score = lr.score(X_te, y_te)\n",
    "    \n",
    "    #RMSE\n",
    "    y_hat_train = lr.predict(X_tr)\n",
    "    y_hat_test = lr.predict(X_te)\n",
    "    \n",
    "    train_rmse = np.sqrt(mean_squared_error(y_tr, y_hat_train))\n",
    "    test_rmse = np.sqrt(mean_squared_error(y_te, y_hat_test))\n",
    "    \n",
    "    print(f' training data R2: {train_score}\\n testing data R2: {test_score} \\\n",
    "                    \\n training data rmse: {train_rmse}\\n testing data rmse: {test_rmse}')\n",
    "    \n",
    "    #stats model\n",
    "    stats_summ = input('Do you want a statsmodel summary? (y/n)')\n",
    "    if stats_summ == 'y':\n",
    "        inter = model.intercept_\n",
    "        stats = sm.OLS(y_tr, sm.add_constant(X_tr)).fit()\n",
    "        summary = stats.summary()\n",
    "        print(summary)\n",
    "        \n",
    "    # visualization\n",
    "    viz = input('Do you want a viz of the test? (y/n)')\n",
    "    if viz == 'y':\n",
    "        preds = model.predict(X_te)\n",
    "        fig, ax = plt.subplots()\n",
    "        perfect_line = np.arange(y_test.min(), y_test.max())\n",
    "        ax.plot(perfect_line, linestyle=\"--\", color=\"orange\", label='regression line')\n",
    "        ax.scatter(y_test, preds, alpha=0.5)\n",
    "        ax.set_xlabel(\"Predictors\")\n",
    "        ax.set_ylabel(\"Predicted Price\")\n",
    "        ax.legend();\n",
    "\n",
    "    return"
   ]
  },
  {
   "cell_type": "code",
   "execution_count": null,
   "metadata": {},
   "outputs": [],
   "source": [
    "# I am not sure if I am doing the RMSE correctly, but I am pretty confident with the R2"
   ]
  },
  {
   "cell_type": "markdown",
   "metadata": {},
   "source": [
    "## Model with Test Data"
   ]
  },
  {
   "cell_type": "code",
   "execution_count": 12,
   "metadata": {},
   "outputs": [],
   "source": [
    "# Using test data to demonstrate\n",
    "test_data = df_clean.loc[:,['price', 'bedrooms', 'condition', 'sqft_living']]"
   ]
  },
  {
   "cell_type": "code",
   "execution_count": 13,
   "metadata": {},
   "outputs": [
    {
     "data": {
      "text/plain": [
       "['price',\n",
       " 'bedrooms',\n",
       " 'bathrooms',\n",
       " 'sqft_living',\n",
       " 'sqft_lot',\n",
       " 'floors',\n",
       " 'waterfront',\n",
       " 'view',\n",
       " 'condition',\n",
       " 'grade',\n",
       " 'zipcode',\n",
       " 'lat',\n",
       " 'long',\n",
       " 'sqft_living15',\n",
       " 'sqft_lot15',\n",
       " 'month',\n",
       " 'basement',\n",
       " 'renovated',\n",
       " 'age']"
      ]
     },
     "execution_count": 13,
     "metadata": {},
     "output_type": "execute_result"
    }
   ],
   "source": [
    "list(df_clean.columns)"
   ]
  },
  {
   "cell_type": "code",
   "execution_count": 14,
   "metadata": {},
   "outputs": [
    {
     "data": {
      "text/plain": [
       "21597"
      ]
     },
     "execution_count": 14,
     "metadata": {},
     "output_type": "execute_result"
    }
   ],
   "source": [
    "len(df_clean['basement'])"
   ]
  },
  {
   "cell_type": "code",
   "execution_count": 15,
   "metadata": {},
   "outputs": [
    {
     "data": {
      "text/plain": [
       "0    13280\n",
       "1     8317\n",
       "Name: basement, dtype: int64"
      ]
     },
     "execution_count": 15,
     "metadata": {},
     "output_type": "execute_result"
    }
   ],
   "source": [
    "df_clean['basement'].value_counts()"
   ]
  },
  {
   "cell_type": "code",
   "execution_count": 16,
   "metadata": {},
   "outputs": [
    {
     "name": "stdout",
     "output_type": "stream",
     "text": [
      " training data R2: 0.5163831722955119\n",
      " testing data R2: 0.5054004287437498                     \n",
      " training data rmse: 256582.88890263447\n",
      " testing data rmse: 253781.2371210158\n",
      "Do you want a statsmodel summary? (y/n)n\n",
      "Do you want a viz of the test? (y/n)n\n"
     ]
    }
   ],
   "source": [
    "y, X = get_y_X(test_data, 'price')\n",
    "\n",
    "X_train, X_test, y_train, y_test = my_train_test(y, X)\n",
    "\n",
    "train_test_compare(X_train, X_test, y_train, y_test)"
   ]
  },
  {
   "cell_type": "markdown",
   "metadata": {},
   "source": [
    "## Model on with Entire Clean DF "
   ]
  },
  {
   "cell_type": "code",
   "execution_count": 17,
   "metadata": {},
   "outputs": [
    {
     "name": "stdout",
     "output_type": "stream",
     "text": [
      " training data R2: 0.6955285374720407\n",
      " testing data R2: 0.7188371571036367                     \n",
      " training data rmse: 201505.37841518578\n",
      " testing data rmse: 199313.1297232731\n",
      "Do you want a statsmodel summary? (y/n)n\n",
      "Do you want a viz of the test? (y/n)n\n"
     ]
    }
   ],
   "source": [
    "y, X = get_y_X(df_clean, 'price')\n",
    "X_train, X_test, y_train, y_test = my_train_test(y, X)\n",
    "train_test_compare(X_train, X_test, y_train, y_test)"
   ]
  },
  {
   "cell_type": "markdown",
   "metadata": {},
   "source": [
    "## Model with Dummy Variables and Binary for Categories"
   ]
  },
  {
   "cell_type": "code",
   "execution_count": 18,
   "metadata": {},
   "outputs": [],
   "source": [
    "df_clean_dumm = df_clean.copy()"
   ]
  },
  {
   "cell_type": "code",
   "execution_count": 19,
   "metadata": {},
   "outputs": [],
   "source": [
    "# Get dummies\n",
    "def add_dummmies(data, column):\n",
    "    dummy = pd.get_dummies(data[column], drop_first=True)\n",
    "    dataframe = pd.concat([data, dummy], axis=1)\n",
    "    dataframe = dataframe.drop(column, axis=1)\n",
    "    return dataframe"
   ]
  },
  {
   "cell_type": "code",
   "execution_count": 20,
   "metadata": {},
   "outputs": [
    {
     "data": {
      "text/plain": [
       "0    13280\n",
       "1     8317\n",
       "Name: basement, dtype: int64"
      ]
     },
     "execution_count": 20,
     "metadata": {},
     "output_type": "execute_result"
    }
   ],
   "source": [
    "df_clean_dumm['basement'].value_counts()"
   ]
  },
  {
   "cell_type": "code",
   "execution_count": 21,
   "metadata": {},
   "outputs": [],
   "source": [
    "# Get Dummies \n",
    "zipcode_dummies = pd.get_dummies(df_clean_dumm['zipcode'], drop_first=True)\n",
    "view_dummies = pd.get_dummies(df_clean_dumm['view'], drop_first=True)\n",
    "month_dummies = pd.get_dummies(df_clean_dumm['month'], prefix='month', drop_first=True)\n",
    "floor_dummies = pd.get_dummies(df_clean_dumm['floors'], prefix='month', drop_first=True)\n",
    "bedrooms_dummies = pd.get_dummies(df_clean_dumm['bedrooms'], prefix='bed', drop_first=True)\n",
    "bathrooms_dummies = pd.get_dummies(df_clean_dumm['bathrooms'], prefix='bath', drop_first=True)\n",
    "\n",
    "#Add to DataFrame\n",
    "df_clean_dumm = pd.concat([df_clean_dumm, view_dummies, \n",
    "                           month_dummies, bedrooms_dummies, bathrooms_dummies, zipcode_dummies], axis=1)\n",
    "\n",
    "#Drop recurring\n",
    "df_clean_dumm = df_clean_dumm.drop(['zipcode', 'view', 'floors', \n",
    "                                    'month', 'bedrooms', 'bathrooms'], axis=1)"
   ]
  },
  {
   "cell_type": "code",
   "execution_count": 22,
   "metadata": {},
   "outputs": [],
   "source": [
    "# Binary\n",
    "df_clean_dumm['waterfront_bin'] = df_clean_dumm['waterfront'].apply(lambda x: 0 if x == 'NO' else 1)\n",
    "\n",
    "# Drop recurring\n",
    "df_clean_dumm = df_clean_dumm.drop(['waterfront'], axis=1)"
   ]
  },
  {
   "cell_type": "code",
   "execution_count": 23,
   "metadata": {
    "scrolled": false
   },
   "outputs": [
    {
     "name": "stdout",
     "output_type": "stream",
     "text": [
      " training data R2: 0.8184710077798968\n",
      " testing data R2: 0.8009429480478745                     \n",
      " training data rmse: 156784.00534284025\n",
      " testing data rmse: 162745.8044348799\n",
      "Do you want a statsmodel summary? (y/n)n\n",
      "Do you want a viz of the test? (y/n)n\n"
     ]
    }
   ],
   "source": [
    "y, X = get_y_X(df_clean_dumm, 'price')\n",
    "X_train, X_test, y_train, y_test = my_train_test(y, X)\n",
    "train_test_compare(X_train, X_test, y_train, y_test)"
   ]
  },
  {
   "cell_type": "markdown",
   "metadata": {},
   "source": [
    "## Model with non-Luxury houses w/ Dummy Variabls"
   ]
  },
  {
   "cell_type": "code",
   "execution_count": 24,
   "metadata": {},
   "outputs": [],
   "source": [
    "non_lux = df_clean_dumm.copy()"
   ]
  },
  {
   "cell_type": "code",
   "execution_count": 25,
   "metadata": {},
   "outputs": [],
   "source": [
    "non_lux = non_lux[non_lux['price'] < 1000000]"
   ]
  },
  {
   "cell_type": "code",
   "execution_count": 26,
   "metadata": {},
   "outputs": [
    {
     "name": "stdout",
     "output_type": "stream",
     "text": [
      " training data R2: 0.8350180859508469\n",
      " testing data R2: 0.8232644935010784                     \n",
      " training data rmse: 79473.87287661908\n",
      " testing data rmse: 81906.11975200684\n",
      "Do you want a statsmodel summary? (y/n)n\n",
      "Do you want a viz of the test? (y/n)n\n"
     ]
    }
   ],
   "source": [
    "y, X = get_y_X(non_lux, 'price')\n",
    "X_train, X_test, y_train, y_test = my_train_test(y, X)\n",
    "train_test_compare(X_train, X_test, y_train, y_test)"
   ]
  },
  {
   "cell_type": "markdown",
   "metadata": {},
   "source": [
    "## Model with non-Luxury and non-Cheap houses w/ Dummy Variabls"
   ]
  },
  {
   "cell_type": "code",
   "execution_count": 27,
   "metadata": {},
   "outputs": [],
   "source": [
    "no_lux_cheap = non_lux.copy()"
   ]
  },
  {
   "cell_type": "code",
   "execution_count": 28,
   "metadata": {},
   "outputs": [],
   "source": [
    "no_lux_cheap = no_lux_cheap[no_lux_cheap['price'] > 100000]"
   ]
  },
  {
   "cell_type": "code",
   "execution_count": 29,
   "metadata": {},
   "outputs": [
    {
     "name": "stdout",
     "output_type": "stream",
     "text": [
      " training data R2: 0.8333337847481282\n",
      " testing data R2: 0.8266058323132484                     \n",
      " training data rmse: 79480.33002181123\n",
      " testing data rmse: 81915.22032545178\n",
      "Do you want a statsmodel summary? (y/n)n\n",
      "Do you want a viz of the test? (y/n)n\n"
     ]
    }
   ],
   "source": [
    "y, X = get_y_X(no_lux_cheap, 'price')\n",
    "X_train, X_test, y_train, y_test = my_train_test(y, X)\n",
    "train_test_compare(X_train, X_test, y_train, y_test)"
   ]
  },
  {
   "cell_type": "markdown",
   "metadata": {},
   "source": [
    "## Model with non-Luxury houses w/ Dummy Variables - drop useless/high p-val columns"
   ]
  },
  {
   "cell_type": "code",
   "execution_count": 30,
   "metadata": {},
   "outputs": [],
   "source": [
    "non_lux_drop = non_lux.copy()\n",
    "non_lux_drop = non_lux_drop.drop(['lat', 'long', 'sqft_lot15'], axis=1)"
   ]
  },
  {
   "cell_type": "code",
   "execution_count": 31,
   "metadata": {},
   "outputs": [
    {
     "name": "stdout",
     "output_type": "stream",
     "text": [
      " training data R2: 0.8336045160089229\n",
      " testing data R2: 0.8269483549114024                     \n",
      " training data rmse: 79849.55331810491\n",
      " testing data rmse: 80898.51961615118\n",
      "Do you want a statsmodel summary? (y/n)n\n",
      "Do you want a viz of the test? (y/n)n\n"
     ]
    }
   ],
   "source": [
    "y, X = get_y_X(non_lux_drop, 'price')\n",
    "X_train, X_test, y_train, y_test = my_train_test(y, X)\n",
    "train_test_compare(X_train, X_test, y_train, y_test)"
   ]
  },
  {
   "cell_type": "markdown",
   "metadata": {},
   "source": [
    "## Drop Multicollinear Columns"
   ]
  },
  {
   "cell_type": "code",
   "execution_count": 32,
   "metadata": {},
   "outputs": [
    {
     "data": {
      "text/html": [
       "<div>\n",
       "<style scoped>\n",
       "    .dataframe tbody tr th:only-of-type {\n",
       "        vertical-align: middle;\n",
       "    }\n",
       "\n",
       "    .dataframe tbody tr th {\n",
       "        vertical-align: top;\n",
       "    }\n",
       "\n",
       "    .dataframe thead th {\n",
       "        text-align: right;\n",
       "    }\n",
       "</style>\n",
       "<table border=\"1\" class=\"dataframe\">\n",
       "  <thead>\n",
       "    <tr style=\"text-align: right;\">\n",
       "      <th></th>\n",
       "      <th>cc</th>\n",
       "    </tr>\n",
       "    <tr>\n",
       "      <th>pairs</th>\n",
       "      <th></th>\n",
       "    </tr>\n",
       "  </thead>\n",
       "  <tbody>\n",
       "    <tr>\n",
       "      <th>(sqft_living15, sqft_living)</th>\n",
       "      <td>0.731907</td>\n",
       "    </tr>\n",
       "  </tbody>\n",
       "</table>\n",
       "</div>"
      ],
      "text/plain": [
       "                                    cc\n",
       "pairs                                 \n",
       "(sqft_living15, sqft_living)  0.731907"
      ]
     },
     "execution_count": 32,
     "metadata": {},
     "output_type": "execute_result"
    }
   ],
   "source": [
    "df_corr_pairs(non_lux_drop, 70)"
   ]
  },
  {
   "cell_type": "code",
   "execution_count": 33,
   "metadata": {},
   "outputs": [],
   "source": [
    "non_lux_drop_more = non_lux_drop.copy()"
   ]
  },
  {
   "cell_type": "code",
   "execution_count": 34,
   "metadata": {},
   "outputs": [],
   "source": [
    "non_lux_drop_more = non_lux_drop_more.drop(['sqft_living15'], axis=1)"
   ]
  },
  {
   "cell_type": "code",
   "execution_count": 35,
   "metadata": {},
   "outputs": [
    {
     "name": "stdout",
     "output_type": "stream",
     "text": [
      " training data R2: 0.8301462536809249\n",
      " testing data R2: 0.8201289907881151                     \n",
      " training data rmse: 80746.00272916025\n",
      " testing data rmse: 82185.07543762107\n",
      "Do you want a statsmodel summary? (y/n)n\n",
      "Do you want a viz of the test? (y/n)n\n"
     ]
    }
   ],
   "source": [
    "y, X = get_y_X(non_lux_drop_more, 'price')\n",
    "X_train, X_test, y_train, y_test = my_train_test(y, X)\n",
    "train_test_compare(X_train, X_test, y_train, y_test)"
   ]
  },
  {
   "cell_type": "markdown",
   "metadata": {},
   "source": [
    "## Log Transform & Scaling"
   ]
  },
  {
   "cell_type": "code",
   "execution_count": 36,
   "metadata": {},
   "outputs": [],
   "source": [
    "scale_test = non_lux_drop.copy()"
   ]
  },
  {
   "cell_type": "code",
   "execution_count": 37,
   "metadata": {},
   "outputs": [
    {
     "name": "stdout",
     "output_type": "stream",
     "text": [
      " training data R2: 0.835311462368065\n",
      " testing data R2: 0.8208019020242194                     \n",
      " training data rmse: 79444.6893182053\n",
      " testing data rmse: 82300.16373473241\n",
      "Do you want a statsmodel summary? (y/n)n\n",
      "Do you want a viz of the test? (y/n)n\n"
     ]
    }
   ],
   "source": [
    "y, X = get_y_X(scale_test, 'price')\n",
    "X_train, X_test, y_train, y_test = my_train_test(y, X)\n",
    "train_test_compare(X_train, X_test, y_train, y_test)"
   ]
  },
  {
   "cell_type": "code",
   "execution_count": 39,
   "metadata": {
    "scrolled": false
   },
   "outputs": [
    {
     "data": {
      "image/png": "[encoded data removed]",
      "text/plain": [
       "<Figure size 864x864 with 6 Axes>"
      ]
     },
     "metadata": {
      "needs_background": "light"
     },
     "output_type": "display_data"
    }
   ],
   "source": [
    "scale_test[['sqft_living', 'sqft_lot', 'sqft_living15', \n",
    "            'condition', 'price', 'renovated']].hist(figsize  = [12, 12]); "
   ]
  },
  {
   "cell_type": "code",
   "execution_count": 40,
   "metadata": {
    "scrolled": true
   },
   "outputs": [
    {
     "data": {
      "image/png": "[encoded data removed]",
      "text/plain": [
       "<Figure size 432x432 with 4 Axes>"
      ]
     },
     "metadata": {
      "needs_background": "light"
     },
     "output_type": "display_data"
    }
   ],
   "source": [
    "# run on sqft_living, sqft_lot, and sqft_living15\n",
    "data_log = pd.DataFrame([])\n",
    "data_log['log_sqft_living'] = np.log(scale_test['sqft_living'])\n",
    "data_log['log_sqft_lot'] = np.log(scale_test['sqft_lot'])\n",
    "data_log['log_sqft_living15'] = np.log(scale_test['sqft_living15'])\n",
    "data_log.hist(figsize  = [6, 6]);"
   ]
  },
  {
   "cell_type": "code",
   "execution_count": 41,
   "metadata": {},
   "outputs": [],
   "source": [
    "#concat\n",
    "scale_test = pd.concat([scale_test, data_log], axis=1)\n",
    "scale_test = scale_test.drop(['sqft_living', 'sqft_lot', 'sqft_living15'], axis=1)"
   ]
  },
  {
   "cell_type": "code",
   "execution_count": 42,
   "metadata": {},
   "outputs": [
    {
     "name": "stdout",
     "output_type": "stream",
     "text": [
      " training data R2: 0.8306970776186967\n",
      " testing data R2: 0.8278321793389558                     \n",
      " training data rmse: 80260.20277030664\n",
      " testing data rmse: 81831.74263729154\n",
      "Do you want a statsmodel summary? (y/n)n\n",
      "Do you want a viz of the test? (y/n)n\n"
     ]
    }
   ],
   "source": [
    "y, X = get_y_X(scale_test, 'price')\n",
    "X_train, X_test, y_train, y_test = my_train_test(y, X)\n",
    "train_test_compare(X_train, X_test, y_train, y_test)"
   ]
  },
  {
   "cell_type": "code",
   "execution_count": 43,
   "metadata": {},
   "outputs": [],
   "source": [
    "# log price — FAILED\n",
    "price_log = pd.DataFrame([])\n",
    "price_log['price_log'] = np.log(scale_test['price'])\n",
    "scale_test = pd.concat([scale_test, price_log], axis=1)\n",
    "scale_test = scale_test.drop(['price'], axis=1)"
   ]
  },
  {
   "cell_type": "code",
   "execution_count": 44,
   "metadata": {},
   "outputs": [
    {
     "name": "stdout",
     "output_type": "stream",
     "text": [
      " training data R2: 0.8447540248963261\n",
      " testing data R2: 0.8360868933889116                     \n",
      " training data rmse: 0.17111110219126777\n",
      " testing data rmse: 0.17477195858356762\n",
      "Do you want a statsmodel summary? (y/n)n\n",
      "Do you want a viz of the test? (y/n)n\n"
     ]
    }
   ],
   "source": [
    "y, X = get_y_X(scale_test, 'price_log')\n",
    "X_train, X_test, y_train, y_test = my_train_test(y, X)\n",
    "train_test_compare(X_train, X_test, y_train, y_test)"
   ]
  },
  {
   "cell_type": "code",
   "execution_count": 45,
   "metadata": {},
   "outputs": [
    {
     "data": {
      "text/plain": [
       "array([[ 0.91980786,  0.48920813,  1.30984145, ...,  0.75337269,\n",
       "         0.74315869,  0.8889442 ],\n",
       "       [-0.63185543,  0.48920813,  1.30984145, ...,  0.96329211,\n",
       "        -1.32868615,  0.08579828],\n",
       "       [-0.63185543,  0.48920813,  1.30984145, ..., -0.75156333,\n",
       "        -2.44010909, -0.98078763],\n",
       "       ...,\n",
       "       [-0.63185543,  0.48920813,  1.30984145, ..., -0.04851785,\n",
       "        -1.85943326, -0.07566261],\n",
       "       [ 0.91980786, -1.48542494, -0.76345118, ..., -2.17914369,\n",
       "        -0.59300618, -0.52856571],\n",
       "       [-0.63185543, -0.4981084 ,  1.30984145, ..., -0.36770752,\n",
       "        -1.32306258, -0.44516236]])"
      ]
     },
     "execution_count": 45,
     "metadata": {},
     "output_type": "execute_result"
    }
   ],
   "source": [
    "#scaling\n",
    "StandardScaler().fit_transform(X_train)"
   ]
  },
  {
   "cell_type": "markdown",
   "metadata": {},
   "source": [
    "## RFECV "
   ]
  },
  {
   "cell_type": "code",
   "execution_count": null,
   "metadata": {},
   "outputs": [],
   "source": [
    "#create splitter\n",
    "splitter = ShuffleSplit(n_splits=3, test_size=0.25, random_state=0)\n",
    "\n",
    "\n",
    "# Importances are based on coefficient magnitude, so\n",
    "# we need to scale the data to normalize the coefficients\n",
    "X_train_for_RFECV = StandardScaler().fit_transform(X_train)\n",
    "\n",
    "model_for_RFECV = LinearRegression()\n",
    "\n",
    "# Instantiate and fit the selector\n",
    "selector = \n",
    "\n",
    "\n",
    "\n",
    "\n",
    "\n",
    "(model_for_RFECV, cv=splitter)\n",
    "selector.fit(X_train_for_RFECV, y_train)\n",
    "\n",
    "# Print the results\n",
    "print(\"Was the column selected?\")\n",
    "for index, col in enumerate(lr.columns):\n",
    "    print(f\"{col}: {selector.support_[index]}\")"
   ]
  }
 ],
 "metadata": {
  "kernelspec": {
   "display_name": "Python 3.8.5 64-bit ('learn-env': conda)",
   "language": "python",
   "name": "python385jvsc74a57bd0033c84df5fb4c613acf884834f63930b25da6784759ce0fb831a430fcd673895"
  },
  "language_info": {
   "codemirror_mode": {
    "name": "ipython",
    "version": 3
   },
   "file_extension": ".py",
   "mimetype": "text/x-python",
   "name": "python",
   "nbconvert_exporter": "python",
   "pygments_lexer": "ipython3",
   "version": "3.8.5"
  }
 },
 "nbformat": 4,
 "nbformat_minor": 4
}
